{
  "cells": [
    {
      "cell_type": "markdown",
      "metadata": {
        "colab_type": "text",
        "id": "qsDsV0anbN0H"
      },
      "source": [
        "# <center>Big Data &ndash; Exercise 1 &ndash; Solution</center>\n",
        "## <center>Fall 2021 &ndash; Week 2 &ndash; ETH Zurich</center>"
      ]
    },
    {
      "cell_type": "markdown",
      "metadata": {},
      "source": [
        "### Aims\n",
        "- **After this exercise:** Understand the SQL language and its common query patterns.\n",
        "- **Later in the semester:** Relate these language features and query patterns relative to other data shapes, technologies, and the languages designed to query them.\n",
        "\n",
        "\n",
        "\n",
        "- **After this exercise:** Understand the 'table' data shape, normalization, and when they can (and should) be used.\n",
        "- **Later in the semester:** Understand when you can (and should) throw all of this away!"
      ]
    },
    {
      "cell_type": "markdown",
      "metadata": {},
      "source": [
        "### Prerequisites\n",
        "In this exercise, you will brush-up the fundamental concepts of relational databases and SQL. If you haven't taken an introductory databases course (or want to refresh your knowledge) we recommend you to read the following:\n",
        "\n",
        "Garcia-Molina, Ullman, Widom: Database Systems: The Complete Book. Pearson, 2. Edition, 2008. (Chapters 1, 2, 3, and 6) [Available in the ETH Library] [[Online]](https://ebookcentral.proquest.com/lib/ethz/detail.action?pq-origsite=primo&docID=5832965) [[Selected solutions]](http://infolab.stanford.edu/~ullman/dscbsols/sols.html)"
      ]
    },
    {
      "cell_type": "markdown",
      "metadata": {},
      "source": [
        "### Database Set-up\n",
        "Unlike last week's exercise, the dataset for this exercise might take a little bit longer to download and initialize. Please wait for the message `PostgreSQL init process complete; ready for start up` before proceeding!\n",
        "\n",
        "As before, we set up our connection to the database and enable use of `%sql` and `%%sql`."
      ]
    },
    {
      "cell_type": "code",
      "execution_count": null,
      "metadata": {},
      "outputs": [],
      "source": [
        "server='postgres'\n",
        "user='postgres'\n",
        "password='BigData1'\n",
        "database='discogs'\n",
        "connection_string=f'postgresql://{user}:{password}@{server}:5432/{database}'"
      ]
    },
    {
      "cell_type": "code",
      "execution_count": null,
      "metadata": {},
      "outputs": [],
      "source": [
        "%reload_ext sql\n",
        "%sql $connection_string"
      ]
    },
    {
      "cell_type": "code",
      "execution_count": null,
      "metadata": {},
      "outputs": [],
      "source": [
        "%%sql\n",
        "SELECT version();"
      ]
    },
    {
      "cell_type": "markdown",
      "metadata": {},
      "source": [
        "## Exercise 1: Explore the dataset\n",
        "We want to first understand the dataset a bit better. You will find some queries below to help you explore the schema. In the process, consider the following questions:\n",
        "\n",
        "1. Which concepts are modelled in the dataset and how do they relate to each other?\n",
        "2. The data is stored as tables. Why was this shape chosen and why not the other shapes?\n",
        "3. In which normal forms are the corresponding relations?\n",
        "4. What are the efficiency trade-offs from adding an `artist_id` and `artist_name` directly to the `releases` table? Hints:\n",
        "   - What are some typical queries that would benefit from this change?\n",
        "   - How often do we need to update artists?\n",
        "5. What potential problems could result from adding this redundancy?\n",
        "\n",
        "### Where we got the data from\n",
        "- [Discogs](https://www.discogs.com/)\n",
        "- [Discogs XML data dumps](http://data.discogs.com/)\n",
        "- [Download the dataset](https://cloud.inf.ethz.ch/s/4bZWo4TjeXgCNz5) (only necessary if you don't want to use Docker, see `postgres-init.sh` to see how to import it)\n",
        "\n",
        "### List tables\n",
        "The following query retrieves a list of tables in the database from a system table describing the current database."
      ]
    },
    {
      "cell_type": "code",
      "execution_count": null,
      "metadata": {},
      "outputs": [],
      "source": [
        "%%sql \n",
        "SELECT table_name\n",
        "FROM information_schema.tables\n",
        "WHERE table_schema = 'public';"
      ]
    },
    {
      "cell_type": "markdown",
      "metadata": {},
      "source": [
        "### List attributes/columns\n",
        "The following query retrieves a list of columns from the tables in the database."
      ]
    },
    {
      "cell_type": "code",
      "execution_count": null,
      "metadata": {},
      "outputs": [],
      "source": [
        "%%sql \n",
        "SELECT table_name, column_name, data_type, is_nullable, ordinal_position\n",
        "FROM information_schema.columns\n",
        "WHERE table_schema = 'public'\n",
        "AND table_name NOT LIKE 'pg_%'\n",
        "ORDER BY table_name, ordinal_position;"
      ]
    },
    {
      "cell_type": "markdown",
      "metadata": {
        "jp-MarkdownHeadingCollapsed": true,
        "tags": []
      },
      "source": [
        "### Exercise 1: Solution\n",
        "1. Which concepts are modelled in the dataset and how do they relate to each other?\n",
        "\n",
        "   The dataset contains data from `discogs` and models musical artists, their physical releases, and the tracks on those releases.\n",
        "\n",
        "2. The data is stored as tables. Why was this shape chosen and why not the other shapes?\n",
        "   - The number of concepts is limited, fixed, and well-defined.\n",
        "   - The same is true for attributes of these concepts.\n",
        "   - Attributes come from a well-defined domains with a fixed semantic (such as dates, e-mail addresses, ...).\n",
        "   - Instances of concepts are in relation with each other, which may or may not be required to exist.\n",
        "   - In short: we can define a schema, which the rest of the application (the website) relies on.\n",
        "\n",
        "\n",
        "3. In which normal forms are the corresponding relations?\n",
        "\n",
        "   - All relations are atomic so they are in 1NF.\n",
        "   - `artists` and `releases` both have a singular ID primary key, so they at least 2NF. Upon inspection, there are no transitive dependencies, so they are in 3NF.\n",
        "   - `released_by` does not contain non-key attributes, so it is in 3NF.\n",
        "   - `tracks` has a foreign key constraint but no primary key constraint (although this is not captured by normal forms). The reason is likely because the data is crowd-sourced and archival, and there could be duplicate entries in the database.\n",
        "\n",
        "\n",
        "4. What are the efficiency trade-offs from adding an `artist_id` and `artist_name` directly to the `releases` table? Hints:\n",
        "\n",
        "   - What are some typical queries that would benefit from this change?\n",
        "   - How often do we need to update artists?\n",
        "   \n",
        "   A very typical query is finding all the releases by an artist's name. If we redundantly store the artist's ID and name in `releases`, the aforementioned query now only requires a `SELECT` instead of an expensive `JOIN`. As releases can be released by multiple artists, we could also extend this idea and break 1NF by storing a list of artist names instead. The tradeoff here is that every time we have to update an artist's name we have to find and update all releases by that artist. Considering that reads are very common and changes are rare, the option of denormalizing becomes relatively more attractive.\n",
        "\n",
        "5. What potential problems could result from denormalizing the data?\n",
        "\n",
        "   - Insert anomaly: we could insert a release with a fake or incorrect artist name.\n",
        "   - Update anomaly: if we update an artist's name but not all of the records in `releases`, we introduce an inconsistency into the dataset."
      ]
    },
    {
      "cell_type": "markdown",
      "metadata": {},
      "source": [
        "## Exercise 2: SQL warm-up\n",
        "Let us begin with several SQL queries to ease us back into the language.\n",
        "\n",
        "1. Retrieve all artists with the name of 'Radiohead'."
      ]
    },
    {
      "cell_type": "code",
      "execution_count": null,
      "metadata": {},
      "outputs": [],
      "source": [
        "%%sql\n",
        "SELECT * FROM artists WHERE name = 'Radiohead';"
      ]
    },
    {
      "cell_type": "markdown",
      "metadata": {},
      "source": [
        "2. List the titles of all releases by that artist in alphabetical order."
      ]
    },
    {
      "cell_type": "code",
      "execution_count": null,
      "metadata": {},
      "outputs": [],
      "source": [
        "%%sql\n",
        "SELECT DISTINCT releases.title\n",
        "FROM artists\n",
        "JOIN released_by USING(artist_id)\n",
        "JOIN releases USING(release_id)\n",
        "WHERE artists.name = 'Radiohead'\n",
        "ORDER BY releases.title;"
      ]
    },
    {
      "cell_type": "markdown",
      "metadata": {},
      "source": [
        "3. List the titles of all releases by that artist that contain less than 5 tracks."
      ]
    },
    {
      "cell_type": "code",
      "execution_count": null,
      "metadata": {},
      "outputs": [],
      "source": [
        "%%sql\n",
        "SELECT releases.title, COUNT(*) AS num_tracks\n",
        "FROM artists\n",
        "JOIN released_by USING(artist_id)\n",
        "JOIN releases USING(release_id)\n",
        "JOIN tracks USING(release_id)\n",
        "WHERE artists.name = 'Radiohead'\n",
        "GROUP BY releases.release_id, releases.title\n",
        "HAVING COUNT(*) < 5;"
      ]
    },
    {
      "cell_type": "markdown",
      "metadata": {},
      "source": [
        "4. What are the top 10 artists with the most releases?"
      ]
    },
    {
      "cell_type": "code",
      "execution_count": null,
      "metadata": {},
      "outputs": [],
      "source": [
        "%%sql\n",
        "SELECT artists.artist_id, artists.name, COUNT(*) AS num_releases\n",
        "FROM artists\n",
        "JOIN released_by USING(artist_id)\n",
        "JOIN releases USING(release_id)\n",
        "GROUP BY artists.artist_id, artists.name\n",
        "ORDER BY num_releases DESC\n",
        "LIMIT 10;"
      ]
    },
    {
      "cell_type": "markdown",
      "metadata": {},
      "source": [
        "5. How many artists have more releases than the average number of releases per artist?"
      ]
    },
    {
      "cell_type": "code",
      "execution_count": null,
      "metadata": {},
      "outputs": [],
      "source": [
        "%%sql\n",
        "WITH releases_per_artist AS (\n",
        "    SELECT artists.artist_id, artists.name, COUNT(*) AS release_count\n",
        "    FROM artists\n",
        "    JOIN released_by USING(artist_id)\n",
        "    JOIN releases USING(release_id)\n",
        "    GROUP BY artists.artist_id \n",
        "),\n",
        "average_release_count AS (\n",
        "    SELECT AVG(release_count)\n",
        "    FROM releases_per_artist\n",
        ")\n",
        "SELECT COUNT(*)\n",
        "FROM releases_per_artist\n",
        "WHERE releases_per_artist.release_count > (SELECT * FROM average_release_count);"
      ]
    },
    {
      "cell_type": "markdown",
      "metadata": {},
      "source": [
        "6. What are the names and IDs of the artists that have both a release with the genre 'Pop' *and* a release with the genre 'Classical'? Give a query that uses `INTERSECT` and one that uses `EXISTS`."
      ]
    },
    {
      "cell_type": "code",
      "execution_count": null,
      "metadata": {},
      "outputs": [],
      "source": [
        "%%sql\n",
        "SELECT artists.artist_id, artists.name\n",
        "FROM artists\n",
        "JOIN released_by USING(artist_id)\n",
        "JOIN releases USING(release_id)\n",
        "WHERE releases.genre = 'Pop'\n",
        "INTERSECT\n",
        "SELECT artists.artist_id, artists.name\n",
        "FROM artists\n",
        "JOIN released_by USING(artist_id)\n",
        "JOIN releases USING(release_id)\n",
        "WHERE releases.genre = 'Classical'"
      ]
    },
    {
      "cell_type": "code",
      "execution_count": null,
      "metadata": {
        "tags": []
      },
      "outputs": [],
      "source": [
        "%%sql\n",
        "SELECT a1.artist_id, a1.name\n",
        "FROM artists a1\n",
        "WHERE EXISTS (\n",
        "    SELECT *\n",
        "    FROM artists a2\n",
        "    JOIN released_by USING(artist_id)\n",
        "    JOIN releases USING(release_id)\n",
        "    WHERE releases.genre = 'Pop'\n",
        "    AND a1.artist_id = a2.artist_id\n",
        ") AND EXISTS (\n",
        "    SELECT *\n",
        "    FROM artists a2\n",
        "    JOIN released_by USING(artist_id)\n",
        "    JOIN releases USING(release_id)\n",
        "    WHERE releases.genre = 'Classical'\n",
        "    AND a1.artist_id = a2.artist_id\n",
        ")"
      ]
    },
    {
      "cell_type": "markdown",
      "metadata": {},
      "source": [
        "## Exercise 3: Impact of release genre on average track duration and track count\n",
        "For this exercise, we want to find out how average track duration and track count varies across genres.\n",
        "\n",
        "To start, write a query which finds all of the distinct genres:"
      ]
    },
    {
      "cell_type": "code",
      "execution_count": null,
      "metadata": {},
      "outputs": [],
      "source": [
        "%%sql\n",
        "SELECT DISTINCT genre\n",
        "FROM releases;"
      ]
    },
    {
      "cell_type": "markdown",
      "metadata": {},
      "source": [
        "Take a guess as to which genre has:\n",
        "1. The highest average track count?\n",
        "2. The lowest average track count?\n",
        "3. The longest average track duration?\n",
        "4. The shortest average track duration?\n",
        "\n",
        "Next, write a query to calculate the average track count per genre:"
      ]
    },
    {
      "cell_type": "code",
      "execution_count": null,
      "metadata": {},
      "outputs": [],
      "source": [
        "%%sql \n",
        "WITH tracks_per_release AS (\n",
        "    SELECT releases.genre, COUNT(*) AS track_count\n",
        "    FROM releases \n",
        "    JOIN tracks USING(release_id)\n",
        "    GROUP BY releases.release_id, releases.genre\n",
        ")\n",
        "SELECT tracks_per_release.genre, AVG(tracks_per_release.track_count) AS avg_track_count\n",
        "FROM tracks_per_release\n",
        "GROUP BY tracks_per_release.genre\n",
        "ORDER BY avg_track_count ASC;"
      ]
    },
    {
      "cell_type": "markdown",
      "metadata": {},
      "source": [
        "Write a query to calculate the average duration per genre. Your result should have two attributes: `genre` and `avg_duration`."
      ]
    },
    {
      "cell_type": "code",
      "execution_count": null,
      "metadata": {},
      "outputs": [],
      "source": [
        "%%sql\n",
        "SELECT releases.genre, AVG(tracks.duration) AS avg_duration\n",
        "FROM releases JOIN tracks USING(release_id)\n",
        "GROUP BY releases.genre\n",
        "ORDER BY avg_duration ASC;"
      ]
    },
    {
      "cell_type": "markdown",
      "metadata": {},
      "source": [
        "Did the results match what you expected? Copy your query into the following python script to plot the result."
      ]
    },
    {
      "cell_type": "code",
      "execution_count": null,
      "metadata": {},
      "outputs": [],
      "source": [
        "%matplotlib inline\n",
        "import matplotlib.pyplot as plt\n",
        "\n",
        "# Store the result of the query in a Python object (add your query here!)\n",
        "result = %sql   SELECT releases.genre, AVG(tracks.duration) AS avg_duration \\\n",
        "                FROM releases JOIN tracks USING(release_id) \\\n",
        "                GROUP BY releases.genre \\\n",
        "                ORDER BY avg_duration ASC; \\\n",
        "\n",
        "# Convert the result to a Pandas data frame\n",
        "df = result.DataFrame()\n",
        "\n",
        "# Extract x and y values for a plot\n",
        "x = df['genre'].tolist()\n",
        "y = df['avg_duration'].tolist()\n",
        "\n",
        "# Print them just for debugging\n",
        "print(x)\n",
        "print(y)\n",
        "\n",
        "# Plot the distribution of scores\n",
        "fig = plt.figure(figsize =(14, 7))\n",
        "plt.barh(x, y, align='center')\n",
        "plt.xlabel('Average Duration (s)')\n",
        "plt.ylabel('Genre')"
      ]
    },
    {
      "cell_type": "markdown",
      "metadata": {},
      "source": [
        "## Exercise 4: Discuss query patterns and language features of SQL\n",
        "1. What patterns did you use in many of the queries above?\n",
        "\n",
        "2. Do you remember the theory behind them?\n",
        "\n",
        "3. What makes SQL a declarative language and what advantages does that have?\n",
        "\n",
        "4. What makes SQL a functional language and what advantages does that have?"
      ]
    },
    {
      "cell_type": "markdown",
      "metadata": {},
      "source": [
        "### Exercise 4: Solution\n",
        "1. Most queries consist of the following basic operations. They will reoccur throughout the whole semester. Watch out for them!\n",
        "  * **Select**: select a subset of the rows/data records/items.\n",
        "  * **Project**: select a subset of the properties/ attributes/columns.\n",
        "  * **Join**: bring two datasets together based on a common attribute.\n",
        "  * **Group**: divide the items/ rows/records into groups and summarize each group with a single value.\n",
        "  * **Order**: order the items according to some criteria.\n",
        "  \n",
        "2. Relational algebra operators formalize most of this (grouping is technically not part of the algebra).\n",
        "  \n",
        "3. We only describe *what* we want, not how this should be computed. We *declare* what our intent is. This shifts the implementation effort from the programmer to the database system. The hope is that the system has more information at hand, such as data size, data distribution, information about the hardware, in order to choose the best way to compute the result. This results into efficient computation with little effort from the programmer.\n",
        "  \n",
        "4. SQL is functional because results of a query can be used as input of another query, either in form of tables or in form of scalars. This makes SQL expressive."
      ]
    },
    {
      "cell_type": "markdown",
      "metadata": {},
      "source": [
        "## Exercise 5: Limits of SQL (optional)\n",
        "Explain what the following query does:"
      ]
    },
    {
      "cell_type": "code",
      "execution_count": null,
      "metadata": {},
      "outputs": [],
      "source": [
        "%%sql\n",
        "WITH RECURSIVE\n",
        "    X AS (SELECT 3 AS Value),\n",
        "    artist_releases AS (\n",
        "        SELECT artists.artist_id, artists.name, releases.release_id, releases.title\n",
        "        FROM artists, released_by, releases\n",
        "        WHERE artists.artist_id = released_by.artist_id\n",
        "        AND released_by.release_id = releases.release_id\n",
        "    ),\n",
        "    collaborations AS (\n",
        "        SELECT DISTINCT ar1.artist_id AS left_id, ar1.name AS left_name, \n",
        "                ar2.artist_id AS right_id, ar2.name AS right_name, 1 AS distance\n",
        "        FROM artist_releases AS ar1, artist_releases AS ar2\n",
        "        WHERE ar1.release_id = ar2.release_id\n",
        "        AND ar1.artist_id != ar2.artist_id\n",
        "    ),\n",
        "    X_hop_collaborations AS (\n",
        "        SELECT * FROM collaborations  -- base case\n",
        "        UNION\n",
        "        SELECT c1.left_id, c1.left_name, c2.right_id, c2.right_name, c1.distance + 1 AS distance\n",
        "        FROM X_hop_collaborations AS c1\n",
        "        JOIN collaborations c2 ON c1.right_id = c2.left_id\n",
        "        WHERE c1.distance < (SELECT * FROM X)\n",
        "    )\n",
        "SELECT * \n",
        "FROM X_hop_collaborations\n",
        "WHERE left_name = 'Radiohead'\n",
        "ORDER BY distance, right_name;"
      ]
    },
    {
      "cell_type": "markdown",
      "metadata": {},
      "source": [
        "### Exercise 5: Solution\n",
        "The query interprets the database as an undirected graph where *Artists* are nodes and edges exist between artists that have released an album together (i.e., collaborated). It then returns all of the artists which are at most `X` hops from a given artist in the graph. Even if the problem is simple when phrased with graph terminology, we can see that the query itself is quite complex: evidently, **SQL is not built for graph analysis!**. In the later weeks of the course, we will see tools that make graph analysis much more intuitive.\n",
        "\n",
        "To understand why the query does what it does, think about how we can find all artists exactly `X` hops from a given artist. Firstly, we need to be able to easily retrieve all *directly* collaborating artists, i.e., the set of edges:"
      ]
    },
    {
      "cell_type": "code",
      "execution_count": null,
      "metadata": {},
      "outputs": [],
      "source": [
        "%%sql\n",
        "WITH artist_releases AS (\n",
        "    SELECT artists.artist_id, artists.name, releases.release_id, releases.title\n",
        "    FROM artists \n",
        "    JOIN released_by USING(artist_id)\n",
        "    JOIN releases USING (release_id)\n",
        ")\n",
        "SELECT DISTINCT ar1.artist_id AS left_id, ar1.name AS left_name, \n",
        "        ar2.artist_id AS right_id, ar2.name AS right_name, 1 AS distance\n",
        "FROM artist_releases AS ar1, artist_releases AS ar2\n",
        "WHERE ar1.release_id = ar2.release_id\n",
        "AND ar1.artist_id != ar2.artist_id\n",
        "LIMIT 10;"
      ]
    },
    {
      "cell_type": "markdown",
      "metadata": {},
      "source": [
        "where we first join artists with their releases under `artist_releases`, and then join `artist_releases` with itself to find all pairs of artists which have released the same `release_id`. We limit the query results to 10 for demonstration purposes.\n",
        "\n",
        "We give this query the alias `collaborations` and join it with itself on a mutual `artist_id` to find all collaborations with two hops:"
      ]
    },
    {
      "cell_type": "code",
      "execution_count": null,
      "metadata": {},
      "outputs": [],
      "source": [
        "%%sql\n",
        "WITH artist_releases AS (\n",
        "    SELECT artists.artist_id, artists.name, releases.release_id, releases.title\n",
        "    FROM artists \n",
        "    JOIN released_by USING(artist_id)\n",
        "    JOIN releases USING (release_id)\n",
        "),\n",
        "collaborations AS (\n",
        "    SELECT DISTINCT ar1.artist_id AS left_id, ar1.name AS left_name, \n",
        "            ar2.artist_id AS right_id, ar2.name AS right_name, 1 AS distance\n",
        "    FROM artist_releases AS ar1, artist_releases AS ar2\n",
        "    WHERE ar1.release_id = ar2.release_id\n",
        "    AND ar1.artist_id != ar2.artist_id\n",
        "),\n",
        "two_hop_collaborations AS (\n",
        "    SELECT DISTINCT c1.left_id, c1.left_name, c2.right_id, c2.right_name\n",
        "    FROM collaborations c1, collaborations c2\n",
        "    WHERE c1.right_id = c2.left_id\n",
        ")\n",
        "SELECT *\n",
        "FROM two_hop_collaborations\n",
        "WHERE left_name = 'Radiohead'\n",
        "ORDER BY right_name\n",
        "LIMIT 10;"
      ]
    },
    {
      "cell_type": "markdown",
      "metadata": {},
      "source": [
        "We can iteratively add indirections with another join like so:"
      ]
    },
    {
      "cell_type": "code",
      "execution_count": null,
      "metadata": {},
      "outputs": [],
      "source": [
        "%%sql\n",
        "WITH artist_releases AS (\n",
        "    SELECT artists.artist_id, artists.name, releases.release_id, releases.title\n",
        "    FROM artists \n",
        "    JOIN released_by USING(artist_id)\n",
        "    JOIN releases USING (release_id)\n",
        "),\n",
        "collaborations AS (\n",
        "    SELECT DISTINCT ar1.artist_id AS left_id, ar1.name AS left_name, \n",
        "            ar2.artist_id AS right_id, ar2.name AS right_name, 1 AS distance\n",
        "    FROM artist_releases AS ar1, artist_releases AS ar2\n",
        "    WHERE ar1.release_id = ar2.release_id\n",
        "    AND ar1.artist_id != ar2.artist_id\n",
        "),\n",
        "two_hop_collaborations AS (\n",
        "    SELECT DISTINCT c1.left_id, c1.left_name, c2.right_id, c2.right_name\n",
        "    FROM collaborations c1, collaborations c2\n",
        "    WHERE c1.right_id = c2.left_id\n",
        "),\n",
        "three_hop_collaborations AS (\n",
        "    SELECT DISTINCT c1.left_id, c1.left_name, c2.right_id, c2.right_name\n",
        "    FROM two_hop_collaborations c1, collaborations c2\n",
        "    WHERE c1.right_id = c2.left_id\n",
        "),\n",
        "four_hop_collaborations AS (\n",
        "    SELECT DISTINCT c1.left_id, c1.left_name, c2.right_id, c2.right_name\n",
        "    FROM three_hop_collaborations c1, collaborations c2\n",
        "    WHERE c1.right_id = c2.left_id\n",
        ")\n",
        "SELECT *\n",
        "FROM four_hop_collaborations\n",
        "WHERE left_name = 'Radiohead'\n",
        "ORDER BY right_name\n",
        "LIMIT 10;"
      ]
    },
    {
      "cell_type": "markdown",
      "metadata": {},
      "source": [
        "The problem with this approach is that the query *structure* depends on the number of hops you want to permit.\n",
        "\n",
        "The query from the question, however, is independent of this number. You can just change `X` and leave the rest as it is. The trick is that it is a *recursive* SQL statement. Roughly speaking, a recursive statement consists of a base case statement connected via ```UNION``` (a concatenation of relations) with a statement the refers to the original statement. The recursive statement is executed recursively until it produces an empty result.\n",
        "\n",
        "The query uses this mechanism to write ```X_hop_collaborations``` (repeated in isolation below): its base case are the direct `collaborations`. Each iteration joins the `collaborations` relation to find artists within one more hop for each artist already found. It keeps track of the distance from the original post by incrementing the value of ```distance``` by one in each iteration. When that attribute reaches the value of ```X```, no records are produced by the recursive case, so recursion ends.\n",
        "\n",
        "Consider: we have to join `collaborations` with an exponentially growing relation for each hop. In addition to the query being difficult to write, it becomes very inefficient as `X` increases."
      ]
    }
  ],
  "metadata": {
    "colab": {
      "name": "Exercise00_Jupyter_Basics_SQL_Example.ipynb",
      "provenance": []
    },
    "kernelspec": {
      "display_name": "Python 3 (ipykernel)",
      "language": "python",
      "name": "python3"
    },
    "language_info": {
      "codemirror_mode": {
        "name": "ipython",
        "version": 3
      },
      "file_extension": ".py",
      "mimetype": "text/x-python",
      "name": "python",
      "nbconvert_exporter": "python",
      "pygments_lexer": "ipython3",
      "version": "3.9.6"
    }
  },
  "nbformat": 4,
  "nbformat_minor": 4
}